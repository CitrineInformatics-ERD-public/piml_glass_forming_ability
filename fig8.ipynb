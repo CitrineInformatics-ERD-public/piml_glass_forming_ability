{
 "cells": [
  {
   "cell_type": "code",
   "execution_count": 80,
   "id": "9e124ef1-5df0-400b-903d-37d26ec0fc6b",
   "metadata": {},
   "outputs": [],
   "source": [
    "from glasspy.predict.models import GlassNet\n",
    "from glasspy.data import SciGlass, sciglass_dbinfo\n",
    "from glasspy.chemistry.convert import to_array, wt_to_mol\n",
    "\n",
    "from sklearn.metrics import r2_score, mean_absolute_error\n",
    "from sklearn.model_selection import train_test_split, LeaveOneOut\n",
    "from sklearn.ensemble import RandomForestRegressor\n",
    "\n",
    "import matplotlib.pyplot as plt\n",
    "from scipy.stats import pearsonr, kendalltau, zscore\n",
    "from scipy.constants import pi\n",
    "import seaborn as sns\n",
    "import pandas as pd\n",
    "import numpy as np\n",
    "import os"
   ]
  },
  {
   "cell_type": "code",
   "execution_count": 81,
   "id": "5e3ef970-8143-4cc2-b174-1bb6f8933faa",
   "metadata": {},
   "outputs": [],
   "source": [
    "def get_gs(df, tm = 'Tl', jez=False):\n",
    "    df['K_W_Tc'] = (df.Tc - df.Tg) / df[tm] # best one in the paper\n",
    "    df['K_W_Tx'] = (df.Tx - df.Tg) / df[tm]\n",
    "    df['gamma_Tc'] = df.Tc / (df.Tg+df.Tl)\n",
    "    df['H_prime_Tx'] = (df.Tx - df.Tg) / df.Tg\n",
    "    df['K_H_Tc'] = (df.Tc - df.Tg) / (df[tm] - df.Tc) # replaced Tmelt with Tliq\n",
    "    df['H_prime_Tc'] = (df.Tc - df.Tg) / df.Tg\n",
    "    df['K_H_Tx'] = (df.Tx - df.Tg) / (df[tm] - df.Tx) # replaced Tmelt with Tliq\n",
    "    df['deltaT_rg'] = (df.Tx - df.Tg) / (df.Tl - df.Tg)\n",
    "    df['K_cr'] = (df.Tl - df.Tx) / (df.Tl - df.Tg)\n",
    "    if jez:\n",
    "        df['Jezica'] = (df.ViscosityAtTl) - 2 * np.log10(df.Tl)\n",
    "    return df\n",
    "    \n",
    "def get_eta_tl(df):\n",
    "    return df['log10 (η∞)'] + (12-df['log10 (η∞)'])*(df.T12/df.Tl)*np.exp((df.m/(12-df['log10 (η∞)'])-1)*(df.T12/df.Tl - 1))\n",
    "    \n",
    "def get_gfa(df, logXs = -2, logNs = 3, g=pi, **kw):\n",
    "    Umax = 10 ** df.log_Umax\n",
    "    \n",
    "    tn = (10**logXs / (g * 10**logNs * Umax**2))**(1 / 2)\n",
    "\n",
    "    df['GFA'] = -np.log10((df.Tl - df.T_Umax) / tn)\n",
    "    return df"
   ]
  },
  {
   "cell_type": "code",
   "execution_count": 82,
   "id": "a6dcdf77-1f8d-422c-b223-5c6a96d1aa3c",
   "metadata": {},
   "outputs": [],
   "source": [
    "glassnet_stnn = GlassNet()\n",
    "glassnet_train_df = glassnet_stnn.get_training_dataset()\n",
    "glassnet_test_df = glassnet_stnn.get_test_dataset()"
   ]
  },
  {
   "cell_type": "code",
   "execution_count": 83,
   "id": "57fed285-ba30-4e82-87ab-384422085c94",
   "metadata": {},
   "outputs": [],
   "source": [
    "X_glassnet_test = glassnet_test_df.elements\n",
    "X_glassnet_train = glassnet_train_df.elements\n",
    "X_glassnet_total = pd.concat( (X_glassnet_train, X_glassnet_test) )"
   ]
  },
  {
   "cell_type": "code",
   "execution_count": 84,
   "id": "e3a6a858-b5a5-48e7-a7a2-df828d79cbc2",
   "metadata": {},
   "outputs": [],
   "source": [
    "X_glassnet_feats_test, feats = glassnet_stnn.featurizer(X_glassnet_test, return_cols = True)\n",
    "X_glassnet_feats_train, feats = glassnet_stnn.featurizer(X_glassnet_train, return_cols = True)"
   ]
  },
  {
   "cell_type": "code",
   "execution_count": 85,
   "id": "0eacd393-113e-448d-a719-c97c2f09274f",
   "metadata": {},
   "outputs": [],
   "source": [
    "X_glassnet_feats_test = pd.DataFrame(X_glassnet_feats_test, columns = feats)\n",
    "X_glassnet_feats_train = pd.DataFrame(X_glassnet_feats_train, columns = feats)"
   ]
  },
  {
   "cell_type": "code",
   "execution_count": 86,
   "id": "90c7566b-6f2d-420e-b3cd-7e20441b4947",
   "metadata": {},
   "outputs": [],
   "source": [
    "X_glassnet_feats_test.index = X_glassnet_test.index\n",
    "X_glassnet_feats_train.index = X_glassnet_train.index"
   ]
  },
  {
   "cell_type": "code",
   "execution_count": 87,
   "id": "f8bf82cd-4817-4205-87da-af5815fc5c3e",
   "metadata": {},
   "outputs": [],
   "source": [
    "X_glassnet_feats_total = pd.concat( (X_glassnet_feats_train, X_glassnet_feats_test) )"
   ]
  },
  {
   "cell_type": "code",
   "execution_count": 88,
   "id": "3b8e694f-1e3d-4d01-a35a-08a5d50b2927",
   "metadata": {},
   "outputs": [],
   "source": [
    "y_glassnet_test = glassnet_test_df.property.rename(columns={'CrystallizationOnset':'Tx', 'CrystallizationPeak':'Tc', 'TMaxGrowthVelocity': 'T_Umax', \n",
    "                           'MaxGrowthVelocity': 'log_Umax', 'Tliquidus':'Tl'})\n",
    "y_glassnet_train = glassnet_train_df.property.rename(columns={'CrystallizationOnset':'Tx', 'CrystallizationPeak':'Tc', 'TMaxGrowthVelocity': 'T_Umax', \n",
    "                           'MaxGrowthVelocity': 'log_Umax', 'Tliquidus':'Tl'})"
   ]
  },
  {
   "cell_type": "code",
   "execution_count": 89,
   "id": "52c91487-a09d-44e2-ac55-942bb69f6167",
   "metadata": {},
   "outputs": [],
   "source": [
    "y_glassnet_train['ViscosityAtTl'] = glassnet_stnn.predict_log10_viscosity(T = y_glassnet_train.Tl,\n",
    "                                                                          composition = X_glassnet_train)"
   ]
  },
  {
   "cell_type": "code",
   "execution_count": 90,
   "id": "d53e2870-b483-4770-893e-f3b61463ccd0",
   "metadata": {},
   "outputs": [
    {
     "name": "stderr",
     "output_type": "stream",
     "text": [
      "/Users/sarahisabelallec/opt/anaconda3/envs/glassnet_0_4_6/lib/python3.10/site-packages/scipy/optimize/_lsq/least_squares.py:221: RuntimeWarning: overflow encountered in square\n",
      "  z = (f / f_scale) ** 2\n"
     ]
    }
   ],
   "source": [
    "y_glassnet_test['ViscosityAtTl'] = glassnet_stnn.predict_log10_viscosity(T = y_glassnet_test.Tl,\n",
    "                                                                          composition = X_glassnet_test)"
   ]
  },
  {
   "cell_type": "code",
   "execution_count": 91,
   "id": "6fb19215-5e91-4d39-a162-80f70bbc858c",
   "metadata": {},
   "outputs": [],
   "source": [
    "y_glassnet_total = pd.concat( (y_glassnet_train, y_glassnet_test) )"
   ]
  },
  {
   "cell_type": "code",
   "execution_count": 92,
   "id": "830c9ecf-fd73-43ea-850d-88578cb03466",
   "metadata": {},
   "outputs": [],
   "source": [
    "gs_glassnet_train = get_gs(y_glassnet_train, jez=True)\n",
    "gs_glassnet_test = get_gs(y_glassnet_test, jez=True)"
   ]
  },
  {
   "cell_type": "code",
   "execution_count": 93,
   "id": "6ea70620-c252-49c0-ae3e-b64fbe907361",
   "metadata": {},
   "outputs": [
    {
     "name": "stderr",
     "output_type": "stream",
     "text": [
      "/Users/sarahisabelallec/opt/anaconda3/envs/glassnet_0_4_6/lib/python3.10/site-packages/pandas/core/arraylike.py:399: RuntimeWarning: divide by zero encountered in log10\n",
      "  result = getattr(ufunc, method)(*inputs, **kwargs)\n",
      "/Users/sarahisabelallec/opt/anaconda3/envs/glassnet_0_4_6/lib/python3.10/site-packages/pandas/core/arraylike.py:399: RuntimeWarning: invalid value encountered in log10\n",
      "  result = getattr(ufunc, method)(*inputs, **kwargs)\n",
      "/Users/sarahisabelallec/opt/anaconda3/envs/glassnet_0_4_6/lib/python3.10/site-packages/pandas/core/arraylike.py:399: RuntimeWarning: divide by zero encountered in log10\n",
      "  result = getattr(ufunc, method)(*inputs, **kwargs)\n"
     ]
    }
   ],
   "source": [
    "gfa_glassnet_train = get_gfa(y_glassnet_train)['GFA'].replace([np.inf, -np.inf], np.nan).dropna()\n",
    "gfa_glassnet_test = get_gfa(y_glassnet_test)['GFA'].replace([np.inf, -np.inf], np.nan).dropna()"
   ]
  },
  {
   "cell_type": "code",
   "execution_count": 94,
   "id": "0be9ead2-1b07-4fdb-a508-d7d499d43120",
   "metadata": {},
   "outputs": [],
   "source": [
    "gs_glassnet_total = pd.concat( (gs_glassnet_train, gs_glassnet_test ) )\n",
    "gfa_glassnet_total = pd.concat( (gfa_glassnet_train, gfa_glassnet_test) )"
   ]
  },
  {
   "cell_type": "code",
   "execution_count": 95,
   "id": "a2cd331c-c72a-4175-af7a-fa1e2acb049e",
   "metadata": {},
   "outputs": [],
   "source": [
    "gs_cols = ['K_W_Tc', 'gamma_Tc', 'H_prime_Tc', 'Jezica']\n",
    "gs_titles = [r'$K_{W}(T_{c})$', r'$\\gamma(T_{c})$', r'$H^{\\prime}(T_{c})$', '$JEZ$']"
   ]
  },
  {
   "cell_type": "code",
   "execution_count": 96,
   "id": "7c7ce3d7-544a-4cb5-8545-8cb2ceb5c958",
   "metadata": {},
   "outputs": [
    {
     "name": "stdout",
     "output_type": "stream",
     "text": [
      "ChemArray\n",
      "['Na2O', 'Fe2O3', 'P2O5']\n",
      "[[0.    0.    1.   ]\n",
      " [0.    0.025 0.975]\n",
      " [0.    0.05  0.95 ]\n",
      " ...\n",
      " [0.975 0.    0.025]\n",
      " [0.975 0.025 0.   ]\n",
      " [1.    0.    0.   ]]\n"
     ]
    },
    {
     "data": {
      "text/plain": []
     },
     "execution_count": 96,
     "metadata": {},
     "output_type": "execute_result"
    }
   ],
   "source": [
    "NaFePO_df= pd.read_csv('WS_Na2O_ADD_Fe2O3-P2O5.csv')\n",
    "at_perc_df = NaFePO_df[ ['Na2O at %', 'Fe2O3 at %', 'P2O5 at %'] ] / 100\n",
    "at_perc_df.columns = at_perc_df.columns.str.strip(' at %')\n",
    "at_chem_arr = to_array(at_perc_df)\n",
    "at_chem_arr"
   ]
  },
  {
   "cell_type": "code",
   "execution_count": 97,
   "id": "5c39c847-c1c8-492a-9a13-9cea9b36ad2a",
   "metadata": {},
   "outputs": [],
   "source": [
    "X_glassnet_feats_NaFePO, feats = glassnet_stnn.featurizer(at_chem_arr, return_cols = True)\n",
    "X_glassnet_feats_NaFePO = pd.DataFrame(X_glassnet_feats_NaFePO, columns = feats)"
   ]
  },
  {
   "cell_type": "markdown",
   "id": "22db7d47-311c-4bfa-99d8-1bc549ebc367",
   "metadata": {},
   "source": [
    "# Indirect RF"
   ]
  },
  {
   "cell_type": "code",
   "execution_count": 98,
   "id": "5fcc6cba-29db-4626-8653-b797e3b9a91b",
   "metadata": {},
   "outputs": [],
   "source": [
    "# train RF on total datasets and predict on ternary\n",
    "cols = ['Tg', 'Tc', 'Tx', 'Tl', 'T_Umax', 'log_Umax']\n",
    "rf = RandomForestRegressor()\n",
    "\n",
    "y_preds = np.zeros( (len(NaFePO_df), len(cols) ) )\n",
    "for i,col in enumerate(cols):\n",
    "    this_y_train = y_glassnet_total[col].dropna()\n",
    "    this_X_train = X_glassnet_feats_total.loc[ this_y_train.index, : ]\n",
    "    rf.fit( this_X_train, this_y_train )\n",
    "\n",
    "    y_preds[:,i] = rf.predict(X_glassnet_feats_NaFePO)"
   ]
  },
  {
   "cell_type": "code",
   "execution_count": 99,
   "id": "0aba3296-c42d-40fb-8bc9-a28e45268993",
   "metadata": {},
   "outputs": [],
   "source": [
    "y_preds_df = pd.DataFrame( y_preds, columns = cols )"
   ]
  },
  {
   "cell_type": "code",
   "execution_count": 100,
   "id": "f2972cdb-00c3-4bf2-9855-4048099c7502",
   "metadata": {},
   "outputs": [],
   "source": [
    "y_preds_df['ViscosityAtTl'] = glassnet_stnn.predict_log10_viscosity(T = y_preds_df.Tl,\n",
    "                                                                          composition = at_chem_arr)"
   ]
  },
  {
   "cell_type": "code",
   "execution_count": 101,
   "id": "7ae61cc3-101a-4382-8e26-41278e936e90",
   "metadata": {},
   "outputs": [
    {
     "name": "stderr",
     "output_type": "stream",
     "text": [
      "/Users/sarahisabelallec/opt/anaconda3/envs/glassnet_0_4_6/lib/python3.10/site-packages/pandas/core/arraylike.py:399: RuntimeWarning: invalid value encountered in log10\n",
      "  result = getattr(ufunc, method)(*inputs, **kwargs)\n"
     ]
    }
   ],
   "source": [
    "gs_preds = get_gs( y_preds_df, jez=True )\n",
    "gfa_pred = get_gfa( y_preds_df )"
   ]
  },
  {
   "cell_type": "code",
   "execution_count": 102,
   "id": "96bbe872-2c1b-4c90-846d-5b56ddaccfed",
   "metadata": {},
   "outputs": [],
   "source": [
    "y_preds_df = pd.concat( (NaFePO_df, y_preds_df), axis=1 )"
   ]
  },
  {
   "cell_type": "code",
   "execution_count": 103,
   "id": "530788b0-96e8-44f7-8f5f-01a1a039a0dc",
   "metadata": {},
   "outputs": [
    {
     "data": {
      "text/plain": [
       "Index(['overall_composition', 'Na2O at %', 'Fe2O3 at %', 'P2O5 at %',\n",
       "       'Na2O wt %', 'Fe2O3 wt %', 'P2O5 wt %', 'predicted_phases',\n",
       "       'salt_cation_loading', 'wf_volume_per_100g_salt',\n",
       "       'melting_temperature_value', 'cohesive_energy_value',\n",
       "       'bulk_modulus_value', 'has_no_salt_cations', 'has_no_phophates',\n",
       "       'has_unreacted_element', 'has_unreacted_waste_salt',\n",
       "       'has_binary_alkali_compounds', 'total_filter_score', 'Tg', 'Tc', 'Tx',\n",
       "       'Tl', 'T_Umax', 'log_Umax', 'ViscosityAtTl', 'K_W_Tc', 'K_W_Tx',\n",
       "       'gamma_Tc', 'H_prime_Tx', 'K_H_Tc', 'H_prime_Tc', 'K_H_Tx', 'deltaT_rg',\n",
       "       'K_cr', 'Jezica', 'GFA'],\n",
       "      dtype='object')"
      ]
     },
     "execution_count": 103,
     "metadata": {},
     "output_type": "execute_result"
    }
   ],
   "source": [
    "y_preds_df.columns"
   ]
  },
  {
   "cell_type": "code",
   "execution_count": 104,
   "id": "25eb9fb7-0f49-449e-9f99-9acf9607a82b",
   "metadata": {},
   "outputs": [],
   "source": [
    "y_preds_df.to_csv('GS_NaFeP_rf_indirect.csv', index=False)"
   ]
  },
  {
   "cell_type": "markdown",
   "id": "630019af-fedc-4ea6-98d7-520c66f4879e",
   "metadata": {},
   "source": [
    "# Direct RF"
   ]
  },
  {
   "cell_type": "code",
   "execution_count": 105,
   "id": "412d889e-2cfc-45f6-a852-2965eb638062",
   "metadata": {},
   "outputs": [],
   "source": [
    "rf = RandomForestRegressor()\n",
    "\n",
    "y_preds = np.zeros( (len(NaFePO_df), len(gs_cols)-1 ) )\n",
    "for i,col in enumerate(gs_cols):\n",
    "    if col != 'Jezica':\n",
    "        this_y_train = gs_glassnet_total[col].dropna()\n",
    "        this_X_train = X_glassnet_feats_total.loc[ this_y_train.index, : ]\n",
    "        rf.fit( this_X_train, this_y_train )\n",
    "        y_preds[:,i] = rf.predict(X_glassnet_feats_NaFePO)\n",
    "        "
   ]
  },
  {
   "cell_type": "code",
   "execution_count": 106,
   "id": "1838399d-cf3a-431a-a6ad-0cd3d58ae7e3",
   "metadata": {},
   "outputs": [],
   "source": [
    "y_preds_df = pd.DataFrame( y_preds, columns = [col for col in gs_cols if col != 'Jezica'] )"
   ]
  },
  {
   "cell_type": "code",
   "execution_count": 107,
   "id": "7550e217-0e3e-41a6-b606-7067f4e6bb45",
   "metadata": {},
   "outputs": [],
   "source": [
    "y_preds_df = pd.concat( (NaFePO_df, y_preds_df), axis=1 )"
   ]
  },
  {
   "cell_type": "code",
   "execution_count": 108,
   "id": "ea4ac4b0-c705-4c74-a893-1aa6d76895c9",
   "metadata": {},
   "outputs": [],
   "source": [
    "y_preds_df.to_csv('GS_NaFeP_rf_direct.csv', index=False)"
   ]
  },
  {
   "cell_type": "markdown",
   "id": "dc817971-17e6-4133-9623-2da91c6caf95",
   "metadata": {},
   "source": [
    "# GlassNet"
   ]
  },
  {
   "cell_type": "code",
   "execution_count": 109,
   "id": "8c967888-0965-4a1c-ada4-13b9906436d6",
   "metadata": {},
   "outputs": [],
   "source": [
    "cols = ['Tg', 'Tc', 'Tx', 'Tl', 'T_Umax', 'log_Umax']\n",
    "y_preds = glassnet_stnn.predict( at_chem_arr ).rename(columns={'CrystallizationOnset':'Tx', 'CrystallizationPeak':'Tc', 'TMaxGrowthVelocity': 'T_Umax', \n",
    "                           'MaxGrowthVelocity': 'log_Umax', 'Tliquidus':'Tl'})"
   ]
  },
  {
   "cell_type": "code",
   "execution_count": 110,
   "id": "670d58fe-84b6-4ec2-8f85-634ec5a5d4af",
   "metadata": {},
   "outputs": [],
   "source": [
    "y_preds_df = pd.DataFrame( y_preds, columns = cols )"
   ]
  },
  {
   "cell_type": "code",
   "execution_count": 111,
   "id": "a76cb667-a8ba-4e93-8f20-66d22d228deb",
   "metadata": {},
   "outputs": [],
   "source": [
    "y_preds_df['ViscosityAtTl'] = glassnet_stnn.predict_log10_viscosity(T = y_preds_df.Tl,\n",
    "                                                                          composition = at_chem_arr)"
   ]
  },
  {
   "cell_type": "code",
   "execution_count": 112,
   "id": "f1c2c7b0-710a-4295-89f2-f9323123fd70",
   "metadata": {},
   "outputs": [
    {
     "name": "stderr",
     "output_type": "stream",
     "text": [
      "/Users/sarahisabelallec/opt/anaconda3/envs/glassnet_0_4_6/lib/python3.10/site-packages/pandas/core/arraylike.py:399: RuntimeWarning: invalid value encountered in log10\n",
      "  result = getattr(ufunc, method)(*inputs, **kwargs)\n"
     ]
    }
   ],
   "source": [
    "gs_preds = get_gs( y_preds_df, jez=True )\n",
    "gfa_pred = get_gfa( y_preds_df )"
   ]
  },
  {
   "cell_type": "code",
   "execution_count": 113,
   "id": "ea9f91b5-e30a-4433-b570-7cba0775ffcd",
   "metadata": {},
   "outputs": [],
   "source": [
    "y_preds_df = pd.concat( (NaFePO_df, y_preds_df), axis=1 )"
   ]
  },
  {
   "cell_type": "code",
   "execution_count": 114,
   "id": "9896c676-d1f7-4f3e-b838-cac49cbc6ef3",
   "metadata": {},
   "outputs": [],
   "source": [
    "y_preds_df.to_csv('GS_NaFeP_glassnet_indirect.csv', index=False)"
   ]
  },
  {
   "cell_type": "markdown",
   "id": "172d1585-42f4-4022-89eb-28ac741c9b5f",
   "metadata": {},
   "source": [
    "# Composition of sodium iron phosphates in GlassNet data"
   ]
  },
  {
   "cell_type": "code",
   "execution_count": 76,
   "id": "69634de1-bcec-46ad-b0e1-6cde1fc39788",
   "metadata": {},
   "outputs": [],
   "source": [
    "elements = X_glassnet_total.columns"
   ]
  },
  {
   "cell_type": "code",
   "execution_count": 77,
   "id": "7c9927a1-4b05-47c9-a471-84765701577d",
   "metadata": {},
   "outputs": [],
   "source": [
    "elements_not_na_p_fe = [e for e in elements if e != 'Na' and e != 'Fe' and e != 'P']"
   ]
  },
  {
   "cell_type": "code",
   "execution_count": 78,
   "id": "e99b05fa-d315-4aa9-9cdd-a9629196b381",
   "metadata": {},
   "outputs": [],
   "source": [
    "X_na_p_fe = X_glassnet_total[ (X_glassnet_total['Na'] != 0) & (X_glassnet_total['Fe'] != 0) \n",
    "                   & (X_glassnet_total['P'] != 0 ) ]"
   ]
  },
  {
   "cell_type": "code",
   "execution_count": 79,
   "id": "487303b0-92f7-4eb2-a4e5-e3733c6545aa",
   "metadata": {},
   "outputs": [
    {
     "data": {
      "text/plain": [
       "122.9"
      ]
     },
     "execution_count": 79,
     "metadata": {},
     "output_type": "execute_result"
    }
   ],
   "source": [
    "0.1*len(X_na_p_fe)"
   ]
  },
  {
   "cell_type": "code",
   "execution_count": 57,
   "id": "b0a56892-67df-48a1-adc3-0d136091a549",
   "metadata": {},
   "outputs": [],
   "source": [
    "counts = {}\n",
    "for i,row in X_na_p_fe.iterrows():\n",
    "    for e in row[elements_not_na_p_fe][ row[elements_not_na_p_fe] != 0.0 ].index:\n",
    "        if e not in counts.keys():\n",
    "            counts[e] = 1\n",
    "        else:\n",
    "            counts[e] += 1"
   ]
  },
  {
   "cell_type": "code",
   "execution_count": 62,
   "id": "f0a6810d-2462-44b3-81b8-b49c3c75fc95",
   "metadata": {},
   "outputs": [],
   "source": [
    "others = []\n",
    "for el, count in counts.items():\n",
    "    if count > 120:\n",
    "        others.append( el )"
   ]
  },
  {
   "cell_type": "code",
   "execution_count": 64,
   "id": "16e54de9-880d-4291-8f16-a555a19b95df",
   "metadata": {},
   "outputs": [
    {
     "data": {
      "text/plain": [
       "16"
      ]
     },
     "execution_count": 64,
     "metadata": {},
     "output_type": "execute_result"
    }
   ],
   "source": [
    "len( others )"
   ]
  },
  {
   "cell_type": "code",
   "execution_count": 55,
   "id": "5858d40a-a836-455f-b11b-d90e8787e8f6",
   "metadata": {},
   "outputs": [],
   "source": [
    "myrcparams = {\n",
    "    'axes.labelsize': 16,\n",
    "    'axes.titlesize': 16,\n",
    "    'axes.labelcolor': 'black',\n",
    "    'xtick.labelcolor': 'black',\n",
    "    'ytick.labelcolor': 'black',\n",
    "    #'axes.xmargin': 0,\n",
    "    #'axes.ymargin': 0,\n",
    "    'legend.fontsize': 16,\n",
    "    'xtick.labelsize': 14,\n",
    "    'ytick.labelsize': 14,\n",
    "    'figure.autolayout': True,\n",
    "    'figure.figsize': (4.5,4)\n",
    "}\n",
    "plt.rcParams.update(myrcparams)"
   ]
  },
  {
   "cell_type": "code",
   "execution_count": 56,
   "id": "df78d917-d5f9-47ed-a201-bcbe6ec200f2",
   "metadata": {},
   "outputs": [
    {
     "data": {
      "image/png": "[encoded data removed]",
      "text/plain": [
       "<Figure size 1500x500 with 3 Axes>"
      ]
     },
     "metadata": {},
     "output_type": "display_data"
    }
   ],
   "source": [
    "fig,axes = plt.subplots(nrows=1, ncols=3, figsize=(15,5))\n",
    "colors = ['cornflowerblue', 'orchid', 'mediumseagreen']\n",
    "ecolors = ['mediumblue', 'indigo', 'darkgreen' ]\n",
    "for j,el in enumerate( ['P', 'Na', 'Fe'] ):\n",
    "    ax = axes[j]\n",
    "    for i,col in enumerate( ['Tg', 'Tc', 'Tl'] ):\n",
    "        this_y_glassnet = y_glassnet_total[ col ].dropna()\n",
    "        this_X_glassnet = X_glassnet_total.loc[ this_y_glassnet.index, : ]\n",
    "        this_X_na_p_fe = this_X_glassnet[ (this_X_glassnet['Na'] != 0) & (this_X_glassnet['Fe'] != 0) \n",
    "                   & (this_X_glassnet['P'] != 0 ) ]\n",
    "        \n",
    "        sns.histplot( this_X_na_p_fe[el], ax = ax, color = colors[i], edgecolor = ecolors[i], label = col )\n",
    "    ax.legend()\n",
    "fig.tight_layout()\n",
    "fig.savefig('na_p_fe_counts.png', dpi=600)"
   ]
  },
  {
   "cell_type": "code",
   "execution_count": null,
   "id": "0df992fd-264e-4597-8a18-9ccd2ee1a9f4",
   "metadata": {},
   "outputs": [],
   "source": []
  }
 ],
 "metadata": {
  "kernelspec": {
   "display_name": "glassnet_0_4_6",
   "language": "python",
   "name": "glassnet_0_4_6"
  },
  "language_info": {
   "codemirror_mode": {
    "name": "ipython",
    "version": 3
   },
   "file_extension": ".py",
   "mimetype": "text/x-python",
   "name": "python",
   "nbconvert_exporter": "python",
   "pygments_lexer": "ipython3",
   "version": "3.10.0"
  }
 },
 "nbformat": 4,
 "nbformat_minor": 5
}
