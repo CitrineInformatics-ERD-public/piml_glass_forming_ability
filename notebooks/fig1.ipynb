{
 "cells": [
  {
   "cell_type": "markdown",
   "metadata": {},
   "source": [
    "# Figure 1. Parity plots of GS- and GFA-relevant properties\n",
    "\n",
    "Make sure environment is using `glasspy 0.4.6`."
   ]
  },
  {
   "cell_type": "code",
   "execution_count": 10,
   "metadata": {},
   "outputs": [],
   "source": [
    "from glasspy.predict.models import GlassNet\n",
    "from glasspy.data import SciGlass\n",
    "\n",
    "from sklearn.metrics import r2_score, mean_absolute_error\n",
    "from sklearn.ensemble import RandomForestRegressor\n",
    "\n",
    "import matplotlib.pyplot as plt\n",
    "from scipy import stats\n",
    "import seaborn as sns\n",
    "import pandas as pd\n",
    "import numpy as np"
   ]
  },
  {
   "cell_type": "code",
   "execution_count": 11,
   "metadata": {},
   "outputs": [],
   "source": [
    "myrcparams = {\n",
    "    'axes.labelsize': 16,\n",
    "    'axes.titlesize': 16,\n",
    "    'axes.labelcolor': 'black',\n",
    "    'xtick.labelcolor': 'black',\n",
    "    'ytick.labelcolor': 'black',\n",
    "    'legend.fontsize': 16,\n",
    "    'xtick.labelsize': 14,\n",
    "    'ytick.labelsize': 14,\n",
    "    'figure.autolayout': True,\n",
    "    'figure.figsize': (4.5,4)\n",
    "}\n",
    "plt.rcParams.update(myrcparams)"
   ]
  },
  {
   "cell_type": "code",
   "execution_count": 12,
   "metadata": {},
   "outputs": [],
   "source": [
    "glassnet_no_stnn = GlassNet(st_models=[])\n",
    "glassnet_stnn = GlassNet()"
   ]
  },
  {
   "cell_type": "code",
   "execution_count": 13,
   "metadata": {},
   "outputs": [],
   "source": [
    "cols = ['Tg', 'Tc', 'Tx', 'Tliq', 'T_Umax', 'log_Umax']\n",
    "titles = ['$T_g$', '$T_c$', '$T_x$', '$T_l$', '$T_{max(U)}$', '$log(U_{max})$']"
   ]
  },
  {
   "cell_type": "markdown",
   "metadata": {},
   "source": [
    "# Data"
   ]
  },
  {
   "cell_type": "markdown",
   "metadata": {},
   "source": [
    "## Get variations in property values for duplicate compositions"
   ]
  },
  {
   "cell_type": "code",
   "execution_count": 15,
   "metadata": {},
   "outputs": [],
   "source": [
    "source = SciGlass()\n",
    "df = source.data\n",
    "source.remove_duplicate_composition(aggregator='std')\n",
    "df_std = source.data.rename(columns={'CrystallizationOnset':'Tx', 'CrystallizationPeak':'Tc', 'TMaxGrowthVelocity': 'T_Umax',\n",
    "                           'MaxGrowthVelocity': 'log_Umax', 'Tliquidus':'Tliq'})\n",
    "quantiles = df_std.property[cols].quantile(q=0.75)"
   ]
  },
  {
   "cell_type": "markdown",
   "metadata": {},
   "source": [
    "## Load GlassNet training and test data"
   ]
  },
  {
   "cell_type": "code",
   "execution_count": 16,
   "metadata": {},
   "outputs": [],
   "source": [
    "glassnet_test_df = glassnet_stnn.get_test_dataset()\n",
    "glassnet_train_df = glassnet_stnn.get_training_dataset()"
   ]
  },
  {
   "cell_type": "code",
   "execution_count": 17,
   "metadata": {},
   "outputs": [],
   "source": [
    "X_glassnet_test = glassnet_test_df.elements\n",
    "X_glassnet_train = glassnet_train_df.elements\n",
    "X_glassnet_total = pd.concat( (X_glassnet_train, X_glassnet_test) )"
   ]
  },
  {
   "cell_type": "code",
   "execution_count": 18,
   "metadata": {},
   "outputs": [],
   "source": [
    "X_glassnet_feats_test, feats = glassnet_stnn.featurizer(X_glassnet_test, return_cols = True)\n",
    "X_glassnet_feats_train, feats = glassnet_stnn.featurizer(X_glassnet_train, return_cols = True)"
   ]
  },
  {
   "cell_type": "code",
   "execution_count": 19,
   "metadata": {},
   "outputs": [],
   "source": [
    "X_glassnet_feats_test = pd.DataFrame(X_glassnet_feats_test, columns = feats)\n",
    "X_glassnet_feats_train = pd.DataFrame(X_glassnet_feats_train, columns = feats)"
   ]
  },
  {
   "cell_type": "code",
   "execution_count": 20,
   "metadata": {},
   "outputs": [],
   "source": [
    "X_glassnet_feats_test.index = X_glassnet_test.index\n",
    "X_glassnet_feats_train.index = X_glassnet_train.index\n",
    "X_glassnet_feats_total = pd.concat( (X_glassnet_feats_train, X_glassnet_feats_test) )"
   ]
  },
  {
   "cell_type": "code",
   "execution_count": 21,
   "metadata": {},
   "outputs": [],
   "source": [
    "y_glassnet_test = glassnet_test_df.property.rename(columns={'CrystallizationOnset':'Tx', 'CrystallizationPeak':'Tc', 'TMaxGrowthVelocity': 'T_Umax', \n",
    "                           'MaxGrowthVelocity': 'log_Umax', 'Tliquidus':'Tliq'})\n",
    "y_glassnet_train = glassnet_train_df.property.rename(columns={'CrystallizationOnset':'Tx', 'CrystallizationPeak':'Tc', 'TMaxGrowthVelocity': 'T_Umax', \n",
    "                           'MaxGrowthVelocity': 'log_Umax', 'Tliquidus':'Tliq'})\n",
    "y_glassnet_total = pd.concat( (y_glassnet_train, y_glassnet_test) )"
   ]
  },
  {
   "cell_type": "markdown",
   "metadata": {},
   "source": [
    "# Predictions on GlassNet test set"
   ]
  },
  {
   "cell_type": "markdown",
   "metadata": {},
   "source": [
    "## GlassNet"
   ]
  },
  {
   "cell_type": "code",
   "execution_count": 22,
   "metadata": {},
   "outputs": [],
   "source": [
    "y_pred_glassnet_no_stnn = glassnet_no_stnn.predict(X_glassnet_test)\n",
    "y_pred_glassnet_stnn = glassnet_stnn.predict(X_glassnet_test)\n",
    "y_pred_glassnet_no_stnn = y_pred_glassnet_no_stnn.rename(columns={'CrystallizationOnset':'Tx', 'CrystallizationPeak':'Tc', 'TMaxGrowthVelocity': 'T_Umax', \n",
    "                           'MaxGrowthVelocity': 'log_Umax', 'Tliquidus':'Tliq'})\n",
    "y_pred_glassnet_stnn = y_pred_glassnet_stnn.rename(columns={'CrystallizationOnset':'Tx', 'CrystallizationPeak':'Tc', 'TMaxGrowthVelocity': 'T_Umax', \n",
    "                           'MaxGrowthVelocity': 'log_Umax', 'Tliquidus':'Tliq'})\n",
    "y_pred_glassnet_no_stnn.index = y_glassnet_test.index\n",
    "y_pred_glassnet_stnn.index = y_glassnet_test.index"
   ]
  },
  {
   "cell_type": "code",
   "execution_count": 23,
   "metadata": {},
   "outputs": [],
   "source": [
    "y_glassnet_test_cpy = y_glassnet_test.copy()\n",
    "y_glassnet_test_cpy.rename(columns={'CrystallizationOnset':'Tx', 'CrystallizationPeak':'Tc', 'TMaxGrowthVelocity': 'T_Umax', \n",
    "                           'MaxGrowthVelocity': 'log_Umax', 'Tliquidus':'Tliq'}, inplace=True)\n",
    "y_glassnet_test_cpy.columns = [col+'_true' for col in y_glassnet_test_cpy.columns]"
   ]
  },
  {
   "cell_type": "code",
   "execution_count": 24,
   "metadata": {},
   "outputs": [],
   "source": [
    "y_pred_glassnet_stnn_cpy = y_pred_glassnet_stnn.copy()\n",
    "y_pred_glassnet_stnn_cpy.rename(columns={'CrystallizationOnset':'Tx', 'CrystallizationPeak':'Tc', 'TMaxGrowthVelocity': 'T_Umax', \n",
    "                           'MaxGrowthVelocity': 'log_Umax', 'Tliquidus':'Tliq'}, inplace=True)\n",
    "y_pred_glassnet_stnn_cpy.columns = [col+'_stnn' for col in y_pred_glassnet_stnn_cpy.columns]"
   ]
  },
  {
   "cell_type": "code",
   "execution_count": 25,
   "metadata": {},
   "outputs": [],
   "source": [
    "y_pred_glassnet_no_stnn_cpy = y_pred_glassnet_no_stnn.copy()\n",
    "y_pred_glassnet_no_stnn_cpy.rename(columns={'CrystallizationOnset':'Tx', 'CrystallizationPeak':'Tc', 'TMaxGrowthVelocity': 'T_Umax', \n",
    "                           'MaxGrowthVelocity': 'log_Umax', 'Tliquidus':'Tliq'}, inplace=True)\n",
    "y_pred_glassnet_no_stnn_cpy.columns = [col+'_no_stnn' for col in y_pred_glassnet_no_stnn_cpy.columns]"
   ]
  },
  {
   "cell_type": "code",
   "execution_count": 26,
   "metadata": {},
   "outputs": [],
   "source": [
    "final_glassnet_pred_df = pd.concat( (y_glassnet_test_cpy, y_pred_glassnet_stnn_cpy, \n",
    "                                     y_pred_glassnet_no_stnn_cpy), \n",
    "                                     axis=1 )"
   ]
  },
  {
   "cell_type": "code",
   "execution_count": 27,
   "metadata": {},
   "outputs": [],
   "source": [
    "final_glassnet_pred_df.to_csv( 'glassnet_test_preds_0_4_6_stnn.csv')"
   ]
  },
  {
   "cell_type": "markdown",
   "metadata": {},
   "source": [
    "## Random forest"
   ]
  },
  {
   "cell_type": "code",
   "execution_count": 28,
   "metadata": {},
   "outputs": [],
   "source": [
    "n_iter = 10"
   ]
  },
  {
   "cell_type": "code",
   "execution_count": null,
   "metadata": {
    "scrolled": true
   },
   "outputs": [],
   "source": [
    "y_pred_glassnet_rf_dfs = []\n",
    "y_pred_glassnet_rf = pd.DataFrame( np.zeros( y_pred_glassnet_stnn.shape ), index = y_pred_glassnet_stnn.index, columns = y_pred_glassnet_stnn.columns )\n",
    "\n",
    "r2_df = pd.DataFrame( np.zeros( (n_iter, len(cols)) ) )\n",
    "mae_df = pd.DataFrame( np.zeros( (n_iter, len(cols)) ) )\n",
    "r2_df.columns = [f'R2_{col}' for col in cols]\n",
    "mae_df.columns = [f'MAE_{col}' for col in cols]\n",
    "\n",
    "rf = RandomForestRegressor()\n",
    "for i in range(n_iter):\n",
    "\n",
    "    this_y_pred_df = pd.DataFrame( np.zeros( y_pred_glassnet_stnn.shape ), index = y_pred_glassnet_stnn.index, columns = y_pred_glassnet_stnn.columns )\n",
    "    for t, col in enumerate( cols ):\n",
    "        \n",
    "        this_y_train = y_glassnet_train[col].dropna()\n",
    "        this_X_train = X_glassnet_feats_train.loc[ this_y_train.index, : ]\n",
    "        this_y_test = y_glassnet_test[col].dropna()\n",
    "        this_X_test = X_glassnet_feats_test.loc[ this_y_test.index, : ]\n",
    "\n",
    "        rf.fit(this_X_train, this_y_train)\n",
    "\n",
    "        this_y_pred_all = rf.predict(X_glassnet_feats_test)\n",
    "        this_y_pred = rf.predict(this_X_test)\n",
    "        \n",
    "        this_y_pred_df[col] = this_y_pred_all\n",
    "\n",
    "        y_pred_glassnet_rf.loc[this_y_test.index, col] = this_y_pred\n",
    "        r2_df.loc[i,f'R2_{col}'] = r2_score( this_y_test, this_y_pred )\n",
    "        mae_df.loc[i,f'MAE_{col}'] = mean_absolute_error( this_y_test, this_y_pred )\n",
    "    y_pred_glassnet_rf_dfs.append( this_y_pred_df[cols] )"
   ]
  },
  {
   "cell_type": "code",
   "execution_count": null,
   "metadata": {},
   "outputs": [],
   "source": [
    "#for i in range(n_iter):\n",
    "#    y_pred_glassnet_rf_dfs[i].to_csv(f'rf_preds_iteration{i}.csv')"
   ]
  },
  {
   "cell_type": "code",
   "execution_count": null,
   "metadata": {},
   "outputs": [],
   "source": [
    "print( r2_df.mean(axis=0) )\n",
    "print( r2_df.std(axis=0) )"
   ]
  },
  {
   "cell_type": "code",
   "execution_count": null,
   "metadata": {},
   "outputs": [],
   "source": [
    "print( mae_df.mean(axis=0) )\n",
    "print( mae_df.std(axis=0) )"
   ]
  },
  {
   "cell_type": "code",
   "execution_count": null,
   "metadata": {},
   "outputs": [],
   "source": [
    "y_pred_glassnet_rf_cpy = y_pred_glassnet_rf.copy()\n",
    "y_pred_glassnet_rf_cpy.rename(columns={'CrystallizationOnset':'Tx', 'CrystallizationPeak':'Tc', 'TMaxGrowthVelocity': 'T_Umax', \n",
    "                           'MaxGrowthVelocity': 'log_Umax', 'Tliquiadus':'Tliq'}, inplace=True)\n",
    "y_pred_glassnet_rf_cpy.columns = [col+'_rf' for col in y_pred_glassnet_rf_cpy.columns]"
   ]
  },
  {
   "cell_type": "code",
   "execution_count": null,
   "metadata": {},
   "outputs": [],
   "source": [
    "y_pred_glassnet_no_rf_cpy = y_pred_glassnet_no_stnn.copy()\n",
    "y_pred_glassnet_no_rf_cpy.rename(columns={'CrystallizationOnset':'Tx', 'CrystallizationPeak':'Tc', 'TMaxGrowthVelocity': 'T_Umax', \n",
    "                           'MaxGrowthVelocity': 'log_Umax', 'Tliquidus':'Tliq'}, inplace=True)\n",
    "y_pred_glassnet_no_rf_cpy.columns = [col+'_no_rf' for col in y_pred_glassnet_no_rf_cpy.columns]"
   ]
  },
  {
   "cell_type": "code",
   "execution_count": null,
   "metadata": {},
   "outputs": [],
   "source": [
    "final_glassnet_pred_df = pd.concat( (y_glassnet_test_cpy, y_pred_glassnet_rf_cpy, \n",
    "                                     y_pred_glassnet_no_rf_cpy), \n",
    "                                     axis=1 )"
   ]
  },
  {
   "cell_type": "code",
   "execution_count": null,
   "metadata": {},
   "outputs": [],
   "source": [
    "final_glassnet_pred_df.to_csv( 'glassnet_test_preds_rf.csv')"
   ]
  },
  {
   "cell_type": "markdown",
   "metadata": {},
   "source": [
    "## Parity plots"
   ]
  },
  {
   "cell_type": "code",
   "execution_count": null,
   "metadata": {},
   "outputs": [],
   "source": [
    "glassnet_test_pred_rf = pd.read_csv('glassnet_test_preds_rf.csv', index_col=0)\n",
    "glassnet_test_pred_stnn = pd.read_csv('glassnet_test_preds_0_4_6_stnn.csv', index_col=0)"
   ]
  },
  {
   "cell_type": "code",
   "execution_count": null,
   "metadata": {
    "scrolled": true
   },
   "outputs": [],
   "source": [
    "r2_arr = np.zeros( (4,6) )\n",
    "letters = ['a)', 'b)', 'c)', 'd)', 'e)', 'f)']\n",
    "x_shifts = [40, 40, 40, 40, 40, 0.25]\n",
    "y_shifts = [50, 80, 80, 0, 80, 0.6]\n",
    "fig,axes = plt.subplots(nrows=2,ncols=3,figsize=(15,10))\n",
    "for i,col in enumerate(cols):\n",
    "    y_true = glassnet_test_pred_rf[f'{col}_true']\n",
    "    y_rf = glassnet_test_pred_rf[f'{col}_rf']\n",
    "    y_no_rf = glassnet_test_pred_rf[f'{col}_no_rf']\n",
    "    y_stnn = glassnet_test_pred_stnn[f'{col}_stnn']\n",
    "    y_no_stnn = glassnet_test_pred_stnn[f'{col}_no_stnn']\n",
    "    \n",
    "    y_true_nona = y_true.dropna()\n",
    "    y_no_rf_nona = y_no_rf[ y_true_nona.index ]\n",
    "    y_rf_nona = y_rf[ y_true_nona.index ]\n",
    "    y_stnn_nona = y_stnn[ y_true_nona.index ]\n",
    "\n",
    "    y_agg = ( y_rf_nona + y_stnn_nona ) / 2\n",
    "    r2_arr[:,i] = [ r2_score(y_true_nona, y_no_rf_nona), r2_score(y_true_nona, y_stnn_nona), r2_score(y_true_nona, y_rf_nona), r2_score(y_true_nona, y_agg) ]\n",
    "  \n",
    "    if i < 3:\n",
    "        ax = axes[0,i]\n",
    "    else:\n",
    "        ax = axes[1,i-3]\n",
    "    ax.plot(y_true_nona, y_true_nona, color='black',linewidth=1.0)\n",
    "    ax.scatter(y_true_nona, y_no_rf_nona, marker='s', s=50, alpha=0.7, color='slategrey', edgecolor='black', label='No STNN or RF')\n",
    "    ax.scatter(y_true_nona, y_stnn_nona, marker='o', s=55, alpha=0.8, color='lavender', edgecolor='indigo', label='With STNN')\n",
    "    ax.scatter(y_true_nona, y_rf_nona, marker='^', s=60, alpha=0.6, color='cyan', edgecolor='mediumblue', label='With RF')\n",
    "    y_true_line = np.linspace(min(y_true_nona), max(y_true_nona), 100)\n",
    "    ax.fill_between(y_true_line, (y_true_line-quantiles[col]), (y_true_line+quantiles[col]), color='lime', alpha=.6, linewidth=2.0)\n",
    "    ax.set_xlabel(r'$y_{true}$')\n",
    "    ax.set_ylabel(r'$y_{pred}$')\n",
    "    ax.set_title(titles[i])\n",
    "    x = ax.get_xlim()[0] + x_shifts[i]\n",
    "    y = ax.get_ylim()[1] - y_shifts[i]\n",
    "    #ax.text(x, y, letters[i], fontsize=24 )\n",
    "    ax.legend(loc='lower right')\n",
    "    \n",
    "fig.savefig(f'figure1.png', dpi=600)"
   ]
  },
  {
   "cell_type": "code",
   "execution_count": null,
   "metadata": {},
   "outputs": [],
   "source": [
    "quantiles"
   ]
  }
 ],
 "metadata": {
  "kernelspec": {
   "display_name": "glassnet_0_4_6",
   "language": "python",
   "name": "glassnet_0_4_6"
  },
  "language_info": {
   "codemirror_mode": {
    "name": "ipython",
    "version": 3
   },
   "file_extension": ".py",
   "mimetype": "text/x-python",
   "name": "python",
   "nbconvert_exporter": "python",
   "pygments_lexer": "ipython3",
   "version": "3.10.0"
  }
 },
 "nbformat": 4,
 "nbformat_minor": 4
}
